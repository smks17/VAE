{
  "nbformat": 4,
  "nbformat_minor": 0,
  "metadata": {
    "colab": {
      "provenance": [],
      "collapsed_sections": [
        "o0enZSxdi-bn",
        "sH1m2JmDzvNE",
        "ojtJ-1YF4snC",
        "pehblZRDAxmV",
        "6mlRgU1FY3oN"
      ],
      "gpuType": "T4"
    },
    "kernelspec": {
      "name": "python3",
      "display_name": "Python 3"
    },
    "language_info": {
      "name": "python"
    },
    "accelerator": "GPU"
  },
  "cells": [
    {
      "cell_type": "markdown",
      "metadata": {
        "id": "o0enZSxdi-bn"
      },
      "source": [
        "# Imports"
      ]
    },
    {
      "cell_type": "code",
      "execution_count": 1,
      "metadata": {
        "id": "R7eybNGSs37L"
      },
      "outputs": [],
      "source": [
        "from random import random, sample\n",
        "from time import time\n",
        "from copy import deepcopy\n",
        "\n",
        "import torch\n",
        "import torch.nn as nn\n",
        "from torchvision import transforms, datasets\n",
        "\n",
        "import numpy as np\n",
        "import matplotlib.pyplot as plt"
      ]
    },
    {
      "cell_type": "code",
      "execution_count": 2,
      "metadata": {
        "colab": {
          "base_uri": "https://localhost:8080/"
        },
        "id": "9g32Yvo5tLNd",
        "outputId": "1702682b-d2e1-4ccb-b3b0-c677e35b1707"
      },
      "outputs": [
        {
          "output_type": "stream",
          "name": "stdout",
          "text": [
            "cuda:0 Tesla T4\n"
          ]
        }
      ],
      "source": [
        "device = torch.device(\"cuda:0\" if torch.cuda.is_available() else \"cpu\")\n",
        "if device == torch.device(\"cuda:0\"):\n",
        "    print(device, torch.cuda.get_device_name(0))\n",
        "else:\n",
        "    print(\"CPU\")"
      ]
    },
    {
      "cell_type": "code",
      "execution_count": 3,
      "metadata": {
        "colab": {
          "base_uri": "https://localhost:8080/"
        },
        "id": "YQOmWMjyrkCv",
        "outputId": "21af2825-584f-4420-a4ab-9307a45d197a"
      },
      "outputs": [
        {
          "output_type": "stream",
          "name": "stdout",
          "text": [
            "Pytorch version: 2.0.1+cu118\n"
          ]
        }
      ],
      "source": [
        "print(\"Pytorch version:\", torch.__version__)"
      ]
    },
    {
      "cell_type": "markdown",
      "source": [
        "# Parameters"
      ],
      "metadata": {
        "id": "70z7ibdW0MQx"
      }
    },
    {
      "cell_type": "code",
      "source": [
        "valid_data_size = 0.1\n",
        "batch_size = 32\n",
        "learning_rate = 0.01\n",
        "epochs = 10\n",
        "lr = 0.001\n",
        "weight_decay = 1e-5"
      ],
      "metadata": {
        "id": "1e06cto90OF-"
      },
      "execution_count": 4,
      "outputs": []
    },
    {
      "cell_type": "markdown",
      "source": [
        "# Load Dataset"
      ],
      "metadata": {
        "id": "7oaicOWuxv9q"
      }
    },
    {
      "cell_type": "code",
      "source": [
        "train_data = datasets.CIFAR10(root='./data', train=True, download=True, transform=transforms.ToTensor())\n",
        "test_data = datasets.CIFAR10(root='./data', train=False, download=True, transform=transforms.ToTensor())"
      ],
      "metadata": {
        "colab": {
          "base_uri": "https://localhost:8080/"
        },
        "id": "QFHMbpeKxxNG",
        "outputId": "76025563-be45-44ee-9ddf-a7135a7eccae"
      },
      "execution_count": 5,
      "outputs": [
        {
          "output_type": "stream",
          "name": "stdout",
          "text": [
            "Files already downloaded and verified\n",
            "Files already downloaded and verified\n"
          ]
        }
      ]
    },
    {
      "cell_type": "code",
      "source": [
        "indices = list(range(len(train_data)))\n",
        "np.random.shuffle(indices)\n",
        "split = int(np.floor((1 - valid_data_size) * len(train_data)))\n",
        "train_sample = torch.utils.data.SubsetRandomSampler(indices[:split])\n",
        "valid_sample = torch.utils.data.SubsetRandomSampler(indices[split:])\n",
        "\n",
        "trainloader = torch.utils.data.DataLoader(train_data, sampler=train_sample, batch_size=batch_size, num_workers=2)\n",
        "validloader = torch.utils.data.DataLoader(train_data, sampler=valid_sample, batch_size=batch_size, num_workers=2)\n",
        "testloader = torch.utils.data.DataLoader(test_data, batch_size=batch_size, shuffle=False, num_workers=2)"
      ],
      "metadata": {
        "id": "LkLAywtby7VE"
      },
      "execution_count": 6,
      "outputs": []
    },
    {
      "cell_type": "code",
      "source": [
        "classes = (\n",
        "    'plane',\n",
        "    'car',\n",
        "    'bird',\n",
        "    'cat',\n",
        "    'deer',\n",
        "    'dog',\n",
        "    'frog',\n",
        "    'horse',\n",
        "    'ship',\n",
        "    'truck'\n",
        ")"
      ],
      "metadata": {
        "id": "N4HLzDEQyKsa"
      },
      "execution_count": 7,
      "outputs": []
    },
    {
      "cell_type": "markdown",
      "source": [
        "# Show Samples"
      ],
      "metadata": {
        "id": "sH1m2JmDzvNE"
      }
    },
    {
      "cell_type": "code",
      "source": [
        "fig, ax = plt.subplots(1, 4, figsize=(8, 8))\n",
        "for i in range(4):\n",
        "    sample_idx = torch.randint(len(train_data), size=(1,)).item()\n",
        "    ax[i].set_title(classes[train_data[sample_idx][1]])\n",
        "    ax[i].imshow(train_data[sample_idx][0].swapaxes(0,1).swapaxes(1,2))\n",
        "    ax[i].axis(False)\n",
        "plt.show()"
      ],
      "metadata": {
        "colab": {
          "base_uri": "https://localhost:8080/",
          "height": 194
        },
        "id": "IaPtPTnOzzzt",
        "outputId": "8e340940-7e9c-43a4-9a72-6810175f1b85"
      },
      "execution_count": 8,
      "outputs": [
        {
          "output_type": "display_data",
          "data": {
            "text/plain": [
              "<Figure size 800x800 with 4 Axes>"
            ],
            "image/png": "[encoded data removed]"
          },
          "metadata": {}
        }
      ]
    },
    {
      "cell_type": "markdown",
      "source": [
        "# Functions"
      ],
      "metadata": {
        "id": "nQF0vylw3Esk"
      }
    },
    {
      "cell_type": "markdown",
      "metadata": {
        "id": "ojtJ-1YF4snC"
      },
      "source": [
        "## Progrss Bar"
      ]
    },
    {
      "cell_type": "code",
      "execution_count": 9,
      "metadata": {
        "id": "ZSvtrgvj4uUn"
      },
      "outputs": [],
      "source": [
        "def progress_bar(epochs=None, batch=None, addition_output=\"\", n_samples=None, lenght_bar = 40, reset=False):\n",
        "    def print_result(percent, end=False):\n",
        "        if end:\n",
        "            end = '\\n'\n",
        "        else:\n",
        "            end = ''\n",
        "        space = lenght_bar - progress_bar.percent - 1\n",
        "        print(\n",
        "            f'\\r epoch {progress_bar.epochs}: ' \\\n",
        "            f'[{\"=\"*progress_bar.percent}>{\" \"*space}] {percent:>3d}%  ' \\\n",
        "            f'time:{int(progress_bar.take_time)}s - {addition_output}',\n",
        "            end=end\n",
        "        )\n",
        "\n",
        "    if reset:\n",
        "        progress_bar.percent = 0\n",
        "        progress_bar.last_time = time()\n",
        "        progress_bar.take_time = 0\n",
        "        progress_bar.n_samples = n_samples\n",
        "        progress_bar.epochs = epochs\n",
        "        print_result(0)\n",
        "        return\n",
        "    if batch == progress_bar.n_samples:\n",
        "        print_result(100, True)\n",
        "        return\n",
        "    new_percent = int((batch / progress_bar.n_samples) * lenght_bar)\n",
        "    actual_percent = int((progress_bar.percent / lenght_bar) * 100)\n",
        "    if progress_bar.percent < new_percent:\n",
        "        progress_bar.percent = new_percent\n",
        "    progress_bar.take_time += time() - progress_bar.last_time\n",
        "    progress_bar.last_time = time()\n",
        "    print_result(actual_percent)"
      ]
    },
    {
      "cell_type": "markdown",
      "source": [
        "## Test Function"
      ],
      "metadata": {
        "id": "pehblZRDAxmV"
      }
    },
    {
      "cell_type": "code",
      "source": [
        "def test(model, test_loader, loss_function=None, return_confusion=False):\n",
        "    accuracy = 0\n",
        "    total = 0\n",
        "    running_loss = 0\n",
        "    if return_confusion:\n",
        "        confusion_matrix = np.zeros((len(classes), len(classes)), dtype=np.int32)\n",
        "    with torch.no_grad():\n",
        "        for (images, _) in test_loader:\n",
        "            images = images.to(device, non_blocking=True)\n",
        "            # predict\n",
        "            out, mu, var = model(images)\n",
        "            total += images.size(0)\n",
        "            if loss_function is not None:\n",
        "                loss = loss_function(out, images, mu, var)\n",
        "                # loss = loss_function(out, images)\n",
        "                running_loss += loss.item()\n",
        "    res = [(accuracy / total * 100.)]\n",
        "    if loss_function is not None:\n",
        "        res += [(running_loss/len(test_loader))]\n",
        "    return res"
      ],
      "metadata": {
        "id": "esTAk9ANAzHk"
      },
      "execution_count": 10,
      "outputs": []
    },
    {
      "cell_type": "markdown",
      "source": [
        "## Train function"
      ],
      "metadata": {
        "id": "by25O6NH3KEm"
      }
    },
    {
      "cell_type": "code",
      "source": [
        "def train(model, train_loader, validation_loader, optim, loss_function, epochs):\n",
        "    losses = []\n",
        "    val_losses = []\n",
        "    accuracies = []\n",
        "    val_accuracies = []\n",
        "    best_accuracy = 0\n",
        "    total_time_train = 0\n",
        "\n",
        "    for i in range(epochs):\n",
        "        progress_bar(i+1, n_samples=len(train_loader), reset=True)\n",
        "        running_loss = 0\n",
        "        model.zero_grad()\n",
        "        accuracy = 0\n",
        "        total_size = 0\n",
        "        for batch, (images, _) in enumerate(train_loader):\n",
        "            # move to target device (gpu)\n",
        "            images = images.to(device, non_blocking=True)\n",
        "            # predict\n",
        "            out, mu, var = model(images)\n",
        "            # cal loss\n",
        "            loss = loss_function(out, images, mu, var)\n",
        "            # loss = loss_function(out, images)\n",
        "            loss.backward()\n",
        "            running_loss += loss.data\n",
        "            # optimazer step\n",
        "            optim.step()\n",
        "            model.zero_grad()\n",
        "            # update progress bar\n",
        "            progress_bar(batch=batch, addition_output=f\"loss={running_loss/(batch+1):>.4f}\")\n",
        "\n",
        "        total_time_train += progress_bar.take_time\n",
        "        # append to history\n",
        "        losses.append((running_loss / len(train_loader)).item())\n",
        "\n",
        "        # test validation data\n",
        "        val_accuracy, val_loss = test(model, validation_loader, loss_function)\n",
        "        val_losses.append(val_loss)\n",
        "\n",
        "        # step progress_bar\n",
        "        addition_output = f\"loss = {losses[-1]:>.4f} - val_loss = {val_losses[-1]:>.4f}\"\n",
        "        progress_bar(batch=len(train_loader), addition_output=addition_output)\n",
        "\n",
        "    print(f\"----------\\n total time for train: {total_time_train / 60.}min\")\n",
        "    return {\"loss\": losses, \"val_loss\": val_losses}"
      ],
      "metadata": {
        "id": "icWiaxw42_8d"
      },
      "execution_count": 11,
      "outputs": []
    },
    {
      "cell_type": "markdown",
      "source": [
        "## Show Sample Predict"
      ],
      "metadata": {
        "id": "6mlRgU1FY3oN"
      }
    },
    {
      "cell_type": "code",
      "source": [
        "def show_predicts(model, test_data, n_test=5):\n",
        "    fig, ax = plt.subplots(2, n_test, figsize=(20, 6))\n",
        "    model.eval()  # Sets the module in evaluation mode not train mode\n",
        "    with torch.no_grad():\n",
        "        for i in range(n_test):\n",
        "            rand_index = int(random() * (len(test_data) - 1))\n",
        "            image = test_data[rand_index][0]\n",
        "\n",
        "            ax[0, i].set_title(f\"image\")\n",
        "            ax[0, i].imshow(image.swapaxes(0,1).swapaxes(1,2))\n",
        "            ax[0, i].axis(False)\n",
        "\n",
        "            image = image.to(device, non_blocking=True)\n",
        "            image = image.unsqueeze(0)\n",
        "            out, mu, var = model(image)\n",
        "\n",
        "            ax[1, i].set_title(f\"predict image\")\n",
        "            ax[1, i].imshow(out.squeeze().swapaxes(0,1).swapaxes(1,2).cpu().numpy())\n",
        "            ax[1, i].axis(False)\n",
        "\n",
        "            fig.tight_layout()\n",
        "    plt.show()"
      ],
      "metadata": {
        "id": "Sjhr3-cVY7ay"
      },
      "execution_count": 12,
      "outputs": []
    },
    {
      "cell_type": "markdown",
      "source": [
        "# Model"
      ],
      "metadata": {
        "id": "v2H0eGh_AjgK"
      }
    },
    {
      "cell_type": "markdown",
      "source": [
        "## Encoder"
      ],
      "metadata": {
        "id": "cI3my-PbdJZa"
      }
    },
    {
      "cell_type": "code",
      "source": [
        "class Encoder(nn.Module):\n",
        "    def __init__(self, latent_size = 4096):\n",
        "        super(Encoder, self).__init__()\n",
        "        self.network = nn.Sequential(\n",
        "            nn.Conv2d(in_channels=3, out_channels=12, kernel_size=4, stride=2, padding=1, bias=False),\n",
        "            nn.BatchNorm2d(12),\n",
        "            nn.ReLU(True),\n",
        "            nn.Conv2d(in_channels=12, out_channels=24, kernel_size=4, stride=2, padding=1, bias=False),\n",
        "            nn.BatchNorm2d(24),\n",
        "            nn.ReLU(True),\n",
        "            nn.Conv2d(in_channels=24, out_channels=48, kernel_size=3, stride=2, padding=1, bias=False),\n",
        "            nn.BatchNorm2d(48),\n",
        "            nn.ReLU(True),\n",
        "\n",
        "            nn.Sequential(\n",
        "                nn.Flatten(),\n",
        "                nn.LazyLinear(latent_size),\n",
        "            )\n",
        "        )\n",
        "\n",
        "    def forward(self, inputs):\n",
        "        return self.network(inputs)"
      ],
      "metadata": {
        "id": "VOCyCilFcxv8"
      },
      "execution_count": 13,
      "outputs": []
    },
    {
      "cell_type": "markdown",
      "source": [
        "## Decoder"
      ],
      "metadata": {
        "id": "dS7Rz5Z0dNqq"
      }
    },
    {
      "cell_type": "code",
      "source": [
        "class Decoder(nn.Module):\n",
        "    def __init__(self, latent_size=4096):\n",
        "        super(Decoder, self).__init__()\n",
        "        self.pre_decoder = nn.Sequential(\n",
        "                nn.Linear(latent_size, 4*4*48),\n",
        "        )\n",
        "\n",
        "        self.network = nn.Sequential(\n",
        "            nn.ConvTranspose2d(in_channels=48, out_channels=24, kernel_size=4, stride=2, padding=1, bias=False),\n",
        "            nn.BatchNorm2d(24),\n",
        "            nn.ReLU(True),\n",
        "            nn.ConvTranspose2d(in_channels=24, out_channels=12, kernel_size=4, stride=2, padding=1, bias=False),\n",
        "            nn.BatchNorm2d(12),\n",
        "            nn.ReLU(True),\n",
        "            nn.ConvTranspose2d(in_channels=12, out_channels=3, kernel_size=4, stride=2, padding=1, bias=True),\n",
        "            nn.Sigmoid(),\n",
        "        )\n",
        "\n",
        "    def forward(self, inputs):\n",
        "        out = self.pre_decoder(inputs)\n",
        "        out = out.reshape(-1,48,4,4)\n",
        "        out = self.network(out)\n",
        "        return out"
      ],
      "metadata": {
        "id": "zN0d8WeadO7g"
      },
      "execution_count": 14,
      "outputs": []
    },
    {
      "cell_type": "markdown",
      "source": [
        "## Variational AutoEncoder"
      ],
      "metadata": {
        "id": "ZV0KoIu4dKmR"
      }
    },
    {
      "cell_type": "markdown",
      "source": [
        "VAE structure\n",
        "![VAE decode structure](https://raw.githubusercontent.com/belepi93/vae-cf-pytorch/master/pics/vae.png)"
      ],
      "metadata": {
        "id": "70ibpbYGwFHS"
      }
    },
    {
      "cell_type": "markdown",
      "source": [
        "\n",
        "$$ Encoder = q_{\\phi} (z \\mid x^{(i)}) = \\sigma $$\n",
        "$$ Decoder = p_{\\theta} (x^{(i)} \\mid z) = \\mu $$\n",
        "$$ P(z) = Normal(0,1) = \\epsilon $$\n",
        "\n",
        "---\n",
        "\n",
        "$$ Loss = Reconstruct Loss + Regularizer $$\n",
        "$$ L(\\Theta, \\phi, x^{(i)}) = E_{z \\sim q_{\\theta}(z \\mid x^{(i)})}[\\log p_{\\theta} (x^{(i)} \\mid z)] - D_{KL} (q_{\\phi} (z \\mid x^{(i)} \\mid\\mid p_{\\theta} (z) )) $$"
      ],
      "metadata": {
        "id": "7BYYIgHLfBrZ"
      }
    },
    {
      "cell_type": "code",
      "source": [
        "class VAE(nn.Module):\n",
        "    def __init__(self, latent_size = 4096, var_space = 4096):\n",
        "        super(VAE, self).__init__()\n",
        "        self.encoder = Encoder(latent_size)\n",
        "\n",
        "        self.fc_mu = nn.Linear(latent_size, var_space)\n",
        "        self.fc_var = nn.Linear(latent_size, var_space)\n",
        "\n",
        "        self.decoder = Decoder(var_space)\n",
        "\n",
        "    def compute_Z(self, mu, var):\n",
        "        # reparametize\n",
        "        std = torch.exp(var * 0.5)\n",
        "        eps = torch.randn_like(std)\n",
        "        return eps * std + mu\n",
        "\n",
        "    def forward(self, inputs):\n",
        "        out = self.encoder(inputs)\n",
        "        mu = self.fc_mu(out)\n",
        "        var = self.fc_var(out)\n",
        "        z = self.compute_Z(mu, var)\n",
        "        return (self.decoder(z), mu, var)\n",
        "\n",
        "    @staticmethod\n",
        "    def loss_function(pred, act, mu, var):\n",
        "        BCE = nn.functional.mse_loss(pred, act, reduction='mean')\n",
        "        return BCE\n",
        "        KLD = 0.5 * torch.sum(var.exp() - var - 1 + mu.pow(2))\n",
        "        return BCE + 0.1 * KLD"
      ],
      "metadata": {
        "id": "xCXrVUFUAkHd"
      },
      "execution_count": 15,
      "outputs": []
    },
    {
      "cell_type": "markdown",
      "source": [
        "# Create Model & Train"
      ],
      "metadata": {
        "id": "Z3q6Hx-EE1Al"
      }
    },
    {
      "cell_type": "code",
      "source": [
        "model = VAE(1024, 1024).to(device)\n",
        "optimizer = torch.optim.Adam(model.parameters(), lr=ls ,weight_decay=weight_decay)"
      ],
      "metadata": {
        "id": "xzmT23eIEV0Z",
        "colab": {
          "base_uri": "https://localhost:8080/"
        },
        "outputId": "55dcc4be-2e92-4ca8-a004-1eb5ca9fc549"
      },
      "execution_count": 16,
      "outputs": [
        {
          "output_type": "stream",
          "name": "stderr",
          "text": [
            "/usr/local/lib/python3.10/dist-packages/torch/nn/modules/lazy.py:180: UserWarning: Lazy modules are a new feature under heavy development so changes to the API or functionality can happen at any moment.\n",
            "  warnings.warn('Lazy modules are a new feature under heavy development '\n"
          ]
        }
      ]
    },
    {
      "cell_type": "code",
      "source": [
        "history = train(model, trainloader, validloader, optimizer, VAE.loss_function, epochs)"
      ],
      "metadata": {
        "colab": {
          "base_uri": "https://localhost:8080/"
        },
        "id": "_Lm-TPZmExIx",
        "outputId": "5e9c290a-e86d-47f7-aba4-d4480b4c0e88"
      },
      "execution_count": 17,
      "outputs": [
        {
          "output_type": "stream",
          "name": "stdout",
          "text": [
            " epoch 1: [=======================================>] 100%  time:30s - loss = 0.0186 - val_loss = 0.0142\n",
            " epoch 2: [=======================================>] 100%  time:27s - loss = 0.0134 - val_loss = 0.0124\n",
            " epoch 3: [=======================================>] 100%  time:18s - loss = 0.0116 - val_loss = 0.0108\n",
            " epoch 4: [=======================================>] 100%  time:21s - loss = 0.0101 - val_loss = 0.0099\n",
            " epoch 5: [=======================================>] 100%  time:16s - loss = 0.0092 - val_loss = 0.0090\n",
            " epoch 6: [=======================================>] 100%  time:18s - loss = 0.0084 - val_loss = 0.0086\n",
            " epoch 7: [=======================================>] 100%  time:17s - loss = 0.0080 - val_loss = 0.0077\n",
            " epoch 8: [=======================================>] 100%  time:17s - loss = 0.0076 - val_loss = 0.0076\n",
            " epoch 9: [=======================================>] 100%  time:17s - loss = 0.0072 - val_loss = 0.0072\n",
            " epoch 10: [=======================================>] 100%  time:18s - loss = 0.0069 - val_loss = 0.0073\n",
            "----------\n",
            " total time for train: 3.3675095876057943min\n"
          ]
        }
      ]
    },
    {
      "cell_type": "code",
      "source": [
        "plt.plot(history[\"loss\"])"
      ],
      "metadata": {
        "id": "2OGiuvg6rbEI",
        "colab": {
          "base_uri": "https://localhost:8080/",
          "height": 451
        },
        "outputId": "284d06ee-88db-4bb5-c223-3b2d3295b736"
      },
      "execution_count": 18,
      "outputs": [
        {
          "output_type": "execute_result",
          "data": {
            "text/plain": [
              "[<matplotlib.lines.Line2D at 0x7efdd5cfc5b0>]"
            ]
          },
          "metadata": {},
          "execution_count": 18
        },
        {
          "output_type": "display_data",
          "data": {
            "text/plain": [
              "<Figure size 640x480 with 1 Axes>"
            ],
            "image/png": "[encoded data removed]"
          },
          "metadata": {}
        }
      ]
    },
    {
      "cell_type": "code",
      "source": [
        "show_predicts(model, test_data)"
      ],
      "metadata": {
        "id": "Ow_SgpKRYSf3",
        "colab": {
          "base_uri": "https://localhost:8080/",
          "height": 441
        },
        "outputId": "8d44d033-1108-4cae-aea2-f912fdb8c847"
      },
      "execution_count": 19,
      "outputs": [
        {
          "output_type": "display_data",
          "data": {
            "text/plain": [
              "<Figure size 2000x600 with 10 Axes>"
            ],
            "image/png": "[encoded data removed]"
          },
          "metadata": {}
        }
      ]
    }
  ]
}